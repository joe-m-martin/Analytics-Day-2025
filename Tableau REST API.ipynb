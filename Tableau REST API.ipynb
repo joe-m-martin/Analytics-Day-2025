{
 "cells": [
  {
   "cell_type": "markdown",
   "id": "485a865d-581e-416e-bc41-66a5ee6b8cd0",
   "metadata": {},
   "source": [
    "# Tableau Rest API \n",
    "## Analytics Day 2025\n",
    "\n"
   ]
  },
  {
   "attachments": {},
   "cell_type": "markdown",
   "id": "1587e2df-9336-4e39-b14d-95b47f15b243",
   "metadata": {},
   "source": [
    "Thanks for attending my presentation \"A Dashboard for My Dashboards.\" I hope this script can help you get started working with the Tableau REST API. For more information, I recommend the following resources: \n",
    "\n",
    "- `tableau_api_lib` documentation: https://pypi.org/project/tableau-api-lib/\n",
    "- Tableau API versions: https://help.tableau.com/current/api/rest_api/en-us/REST/rest_api_concepts_versions.htm\n",
    "- Response Codes: https://developer.mozilla.org/en-US/docs/Web/HTTP/Reference/Status"
   ]
  },
  {
   "cell_type": "markdown",
   "id": "e28069eb-f478-493b-91f0-9341d235d49d",
   "metadata": {},
   "source": [
    "### Package Requirements\n",
    "\n",
    "`pip install pandas -U`\n",
    "\n",
    "`pip install tableau_api_lib -U`\n",
    "\n",
    "`pip install getpass -U`"
   ]
  },
  {
   "cell_type": "code",
   "execution_count": null,
   "id": "d1b4d92e-f8ce-472f-98e1-f887a9433e62",
   "metadata": {},
   "outputs": [],
   "source": [
    "from tableau_api_lib import TableauServerConnection # this will create a connection string and connect to Tableau Server\n",
    "from tableau_api_lib.utils import querying # this will help us get data the data we want from Tableau and put it in a Pandas dataframe\n",
    "\n",
    "import pandas as pd # pandas will help with any data transformation operations\n",
    "import getpass"
   ]
  },
  {
   "cell_type": "markdown",
   "id": "9be6b5bc-84ae-4389-b347-dec59773fc7d",
   "metadata": {},
   "source": [
    "### Connection String\n",
    "\n",
    "Configuring the connection string will point your computer to your specific Tableau server and site. You'll need a few things to create this. \n",
    "1. **Server Name and Site Name**: This is the server and site where you keep all your dashboards. To find your server and site name, look at the url in your browser. It should look like `https://tableau.my-institution.edu/#/site/my-site/`. In this case **`https://tableau.my-institution.edu/`** is the server name and **`my-site`** is the site name. \n"
   ]
  },
  {
   "cell_type": "code",
   "execution_count": null,
   "id": "a3a12e5a-f3a7-4380-a088-1483e9afa845",
   "metadata": {},
   "outputs": [],
   "source": [
    "server_name = '' # type your server name here\n",
    "site_name = '' # type your site name here\n",
    "site_url = '' # type your site url here. "
   ]
  },
  {
   "cell_type": "markdown",
   "id": "0bd943f8-fa13-452a-9b88-260657d156cc",
   "metadata": {},
   "source": [
    "2. **Token**: Before running the next chunck of code, go to your **Account Settings** and scroll down to **Personal Access Tokens**. Write your token name, click **Create Token** and copy the secret Tableau generates for you. "
   ]
  },
  {
   "cell_type": "code",
   "execution_count": null,
   "id": "f339dba1-0a55-4605-9680-209c3b0ce327",
   "metadata": {},
   "outputs": [],
   "source": [
    "# Running this code will open two text boxes. Type in your Token Name and Secret here.\n",
    "token_name = getpass.getpass(prompt='Token Name: ', stream=None)\n",
    "secret = getpass.getpass(prompt='Secret: ' , stream=None)"
   ]
  },
  {
   "cell_type": "markdown",
   "id": "e7b7c6c1-c594-4d06-a9ef-db309c97fc7c",
   "metadata": {},
   "source": [
    "3. **API Version**: Tableau Cloud and Server require different API versions. Check the table below to see which version you need. For more information on API versions, check https://help.tableau.com/current/api/rest_api/en-us/REST/rest_api_concepts_versions.htm#rest_api_versioning\n",
    "|Tableau | Cloud/Server version |\tREST API version |\tSchema version|\n",
    "|---|---|---|---|\n",
    "|2025.2| (Tableau Cloud only) |\t3.26 \t|3.26|\n",
    "|2025.1| \t|3.25 \t|3.25|\n",
    "|2024.3| (Tableau Cloud only)| \t3.24| \t3.24|\n",
    "|2024.2| \t|3.23 \t|3.23|\n",
    "|2024.1| (Tableau Cloud only) |\t3.22 |\t3.22|\n",
    "|2023.3 |\t|3.21| \t3.21|\n",
    "|2023.2| (Tableau Cloud only)| \t3.20 |\t3.20|\n",
    "|2023.1| \t|3.19| \t3.19|\n",
    "|2022.4| (Tableau Cloud only)| \t3.18| \t3.18|\n",
    "|2022.3| \t|3.17| \t3.17|\n",
    "|2022.2| (Tableau Cloud only) |\t3.16 |\t3.16|"
   ]
  },
  {
   "cell_type": "code",
   "execution_count": null,
   "id": "3c5cc5a3-09eb-4157-9e9f-7f0490ec083e",
   "metadata": {},
   "outputs": [],
   "source": [
    "# Check API version and get site name\n",
    "api_version = '' # type your API version between the single quotation marks"
   ]
  },
  {
   "cell_type": "markdown",
   "id": "c065e9be-5b49-44ee-84eb-defc5838206a",
   "metadata": {},
   "source": [
    "Run the code below to log in. Response 200 means you've logged-in successfully. Responses in the 400-500 range means there may be something wrong. Double-check your server and account details. For more information about response codes, see: https://developer.mozilla.org/en-US/docs/Web/HTTP/Reference/Status"
   ]
  },
  {
   "cell_type": "code",
   "execution_count": null,
   "id": "465a1b1e-e8a7-4dd0-831f-67609da94d54",
   "metadata": {},
   "outputs": [],
   "source": [
    "# create connection\n",
    "config = {\n",
    "    \"My Tableau Server\": {  # Name this anything you want! If you're connecting to dev and production servers, you can distinguish between them here\n",
    "        \"server\": server_name,\n",
    "        \"api_version\": api_version,\n",
    "        \"personal_access_token_name\": token_name,\n",
    "        \"personal_access_token_secret\": secret,\n",
    "        \"site_name\": site_name,\n",
    "        \"site_url\": site_url\n",
    "    }\n",
    "}\n",
    "\n",
    "c = TableauServerConnection(config, env='My Tableau Server')\n",
    "c.sign_in()"
   ]
  },
  {
   "cell_type": "markdown",
   "id": "4bd3df9e-c95b-461d-9a0d-15a4075d54fc",
   "metadata": {},
   "source": [
    "### Query Your Server\n",
    "\n",
    "The code below will bring in data about your Views, Workbooks and Projects. Use check Tableau API Lib documents to see what else you can find!"
   ]
  },
  {
   "cell_type": "code",
   "execution_count": null,
   "id": "15031bf2-f4a9-4552-973f-f1856ee006d1",
   "metadata": {},
   "outputs": [],
   "source": [
    "view = querying.get_views_dataframe(conn)\n",
    "\n",
    "print('Number of Views:', len(view))\n",
    "view.head() # get output for first 5 rows"
   ]
  },
  {
   "cell_type": "code",
   "execution_count": null,
   "id": "c93855e8-0853-49b3-8a7e-ea61e9093575",
   "metadata": {},
   "outputs": [],
   "source": [
    "# Clean View DataFrame\n",
    "view['workbook'] = pd.json_normalize(view['workbook'])['id']\n",
    "view['owner'] = pd.json_normalize(view['owner'])['fullName']\n",
    "view['project'] = pd.json_normalize(view['project'])['id']\n",
    "view = view[['workbook','tags','owner','project','id','name','contentUrl','createdAt','updatedAt','sheetType','viewUrlName','usage_totalViewCount']]"
   ]
  },
  {
   "cell_type": "code",
   "execution_count": null,
   "id": "0366edf9-c18f-432f-83e2-cd111c19520c",
   "metadata": {},
   "outputs": [],
   "source": [
    "workbook = pd.DataFrame(extract_pages(conn.query_workbooks_for_site))\n",
    "\n",
    "print('Number of Workbooks:', len(workbook))\n",
    "workbook.head()"
   ]
  },
  {
   "cell_type": "code",
   "execution_count": null,
   "id": "19f7369b-cb39-4b46-a3c3-6d8536447fc5",
   "metadata": {},
   "outputs": [],
   "source": [
    "# Clean Workbook DataFrame\n",
    "workbook['owner'] = pd.json_normalize(workbook['owner'])['fullName']\n",
    "workbook['project'] = pd.json_normalize(workbook['project'])['id']\n",
    "workbook = workbook[['id','project','name','description','owner','contentUrl','webpageUrl','size','createdAt','updatedAt','defaultViewId']]"
   ]
  },
  {
   "cell_type": "code",
   "execution_count": null,
   "id": "23c9e2e3-87b3-4716-84f9-dad06b19e9a0",
   "metadata": {},
   "outputs": [],
   "source": [
    "project = pd.DataFrame(extract_pages(conn.query_projects))\n",
    "\n",
    "print('Number of Projects:', len(project))\n",
    "project.head()"
   ]
  },
  {
   "cell_type": "code",
   "execution_count": null,
   "id": "17958d4c-5bf0-4ca5-880a-ce74f0d7319b",
   "metadata": {},
   "outputs": [],
   "source": [
    "# Clean Project DataFrame\n",
    "\n",
    "project['owner'] = pd.json_normalize(project['owner'])['fullName']\n",
    "project = project[['id','name','description','owner','createdAt','updatedAt','contentPermissions','parentProjectId','controllingPermissionsProjectId']]\n",
    "project = pd.merge(project,project[['id','name']], left_on='parentProjectId',right_on='id', how='left').drop(columns='id_y').rename(columns={'id_x':'id','name_x':'project_name','name_y':'parentProjectName'})"
   ]
  },
  {
   "cell_type": "markdown",
   "id": "9f8e8247-00b1-42a3-9fd4-cc5f187ca4a0",
   "metadata": {},
   "source": [
    "### Save to CSV files"
   ]
  },
  {
   "cell_type": "code",
   "execution_count": null,
   "id": "00e029fa-6f7b-4753-aa56-0e7016a96a89",
   "metadata": {},
   "outputs": [],
   "source": [
    "path = '' #Define your file path. In Python, this should be formatted \"C:/User/Documents/Folder/\"\n",
    "\n",
    "project.to_csv(path+'tableau_project.csv')"
   ]
  },
  {
   "cell_type": "code",
   "execution_count": null,
   "id": "d1f26bab-e700-4292-afdb-ecfe79b1b3cc",
   "metadata": {},
   "outputs": [],
   "source": [
    "# Sign out and close connection\n",
    "conn.sign_out() # <Response [204]> means success"
   ]
  }
 ],
 "metadata": {
  "kernelspec": {
   "display_name": "Python 3 (ipykernel)",
   "language": "python",
   "name": "python3"
  },
  "language_info": {
   "codemirror_mode": {
    "name": "ipython",
    "version": 3
   },
   "file_extension": ".py",
   "mimetype": "text/x-python",
   "name": "python",
   "nbconvert_exporter": "python",
   "pygments_lexer": "ipython3",
   "version": "3.12.7"
  }
 },
 "nbformat": 4,
 "nbformat_minor": 5
}
